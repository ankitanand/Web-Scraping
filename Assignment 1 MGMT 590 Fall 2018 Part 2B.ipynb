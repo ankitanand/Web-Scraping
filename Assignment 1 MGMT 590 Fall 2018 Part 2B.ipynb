{
 "cells": [
  {
   "cell_type": "markdown",
   "metadata": {},
   "source": [
    "# Assignment 1 Part 2b - Getting the individual 10K submissions using Beautiful Soup (15 marks)"
   ]
  },
  {
   "cell_type": "markdown",
   "metadata": {},
   "source": [
    "#### In the last part, you got the 10 K Filing Links in a csv called 10K links.csv. In this part, you will use pandas to create a dataframe.  Then you will keep only the 10-K links from 2010 and later.  Finally you will repeat the process of Assignment 1 Part2a (obtain the weblinks for the 10-K forms, except this time you will do it in Beautiful Soup.  Note, you MUST do this part using Beautiful Soup."
   ]
  },
  {
   "cell_type": "markdown",
   "metadata": {},
   "source": [
    "#### First, we are giving you the libraries you will need:"
   ]
  },
  {
   "cell_type": "code",
   "execution_count": 9,
   "metadata": {},
   "outputs": [],
   "source": [
    "import pandas as pd\n",
    "import urllib\n",
    "import bs4 as bs\n",
    "from bs4 import SoupStrainer\n",
    "import urllib.request\n",
    "\n",
    "#df = pd.read_csv('10K links.csv')"
   ]
  },
  {
   "cell_type": "markdown",
   "metadata": {},
   "source": [
    "#### Your task will be to:\n",
    "#### 1. Sort the data collected in the '10K Links.csv', to get only the 10-K links from 2010 or later\n",
    "#### 2. Use Beautiful Soup to obtain the links to the 10K Submission file (same as assignment 2 part 1 except with Beuatiful Soup)\n",
    "#### 3. Store the information along with the Name of the Company and Date in a dataframe\n",
    "#### 4. Store the dataframe in a csv file"
   ]
  },
  {
   "cell_type": "code",
   "execution_count": 10,
   "metadata": {},
   "outputs": [],
   "source": [
    "import re\n",
    "df = pd.read_csv('10K Links_2A.csv')\n",
    "compname = df['Weblink']"
   ]
  },
  {
   "cell_type": "code",
   "execution_count": 11,
   "metadata": {},
   "outputs": [],
   "source": [
    "url_list = []\n",
    "for i in range(0,len(compname)): #change to len(compname)\n",
    "    comp_url_1 = compname[i].replace(' ',\"+\",len(compname[i].split())-1)\n",
    "    comp_url = \"+\" + comp_url_1 + \"+\"\n",
    "    url = 'https://www.sec.gov/cgi-bin/browse-edgar?action=getcompany&company=' + comp_url + '&type=10-K&dateb=&owner=exclude&count=100'\n",
    "    url_list.append(url)"
   ]
  },
  {
   "cell_type": "code",
   "execution_count": 12,
   "metadata": {},
   "outputs": [
    {
     "name": "stdout",
     "output_type": "stream",
     "text": [
      "557\n"
     ]
    }
   ],
   "source": [
    "weblink = []\n",
    "filing_type = []\n",
    "company_name = []\n",
    "date = []\n",
    "mutual_fund_name = []\n",
    "print(len(url_list))\n",
    "\n",
    "\n",
    "for url in range(0,len(url_list)) :\n",
    "    \n",
    "        \n",
    "        html = urllib.request.urlopen(url_list[1]).read().decode('utf-8')\n",
    "        soup = bs.BeautifulSoup(html, \"html5lib\") \n",
    "        infotable = soup.find_all(class_ =\"tableFile2\", summary = \"Results\")\n",
    "        rows = infotable[0].find_all('tr')\n",
    "        columns = rows[0].find_all('th')\n",
    "        columns1 = rows[0].find_all('td')\n",
    "        \n",
    "        x = len(infotable[0].find_all('th')[0:])\n",
    "        \n",
    "        for row in infotable[0].find_all('tr')[1:]:\n",
    "            if x>4:\n",
    "                columns = row.find_all('td')\n",
    "                date.append(columns[3].getText())\n",
    "                weblink.append(row.find_all('a')[0].get('href'))\n",
    "                filing_type.append(columns[0].getText())\n",
    "                mutual_fund_name.append(compname[url])\n",
    "            else:\n",
    "                columns = row.find_all('td')\n",
    "                date.append(\"NA\")\n",
    "                weblink.append(\"NA\")\n",
    "                filing_type.append(\"NA\")\n",
    "                mutual_fund_name.append(\"NA\")\n",
    "        \n"
   ]
  },
  {
   "cell_type": "code",
   "execution_count": 13,
   "metadata": {},
   "outputs": [
    {
     "data": {
      "text/plain": [
       "1114"
      ]
     },
     "execution_count": 13,
     "metadata": {},
     "output_type": "execute_result"
    }
   ],
   "source": [
    "len(mutual_fund_name)"
   ]
  },
  {
   "cell_type": "code",
   "execution_count": 16,
   "metadata": {},
   "outputs": [
    {
     "name": "stdout",
     "output_type": "stream",
     "text": [
      "https://www.sec.gov/cgi-bin/browse-edgar?action=getcompany&company=+CORRECTIONS+CORP+&type=10-K&dateb=&owner=exclude&count=100\n"
     ]
    }
   ],
   "source": [
    "print(url_list[1])\n",
    "\n",
    "html1 = urllib.request.urlopen(url_list[1]).read().decode('utf-8')\n",
    "soup1 = bs.BeautifulSoup(html1, \"html5lib\") "
   ]
  },
  {
   "cell_type": "code",
   "execution_count": 18,
   "metadata": {},
   "outputs": [
    {
     "name": "stdout",
     "output_type": "stream",
     "text": [
      "<!DOCTYPE html PUBLIC \"-//W3C//DTD HTML 4.01 Transitional//EN\" \"http://www.w3.org/TR/html4/loose.dtd\">\n",
      "<html lang=\"ENG\"><head>\n",
      "<title>EDGAR Search Results</title>\n",
      "<link href=\"/include/interactive.css\" rel=\"stylesheet\" type=\"text/css\"/>\n",
      "\n",
      "</head>\n",
      "<body style=\"margin: 0\">\n",
      "<!-- SEC Web Analytics - For information please visit: http://www.sec.gov/privacy.htm#collectedinfo -->\n",
      "<noscript><iframe height=\"0\" src=\"//www.googletagmanager.com/ns.html?id=GTM-TD3BKV\" style=\"display:none;visibility:hidden\" width=\"0\"></iframe></noscript>\n",
      "<script>(function(w,d,s,l,i){w[l]=w[l]||[];w[l].push({'gtm.start':\n",
      "new Date().getTime(),event:'gtm.js'});var f=d.getElementsByTagName(s)[0],\n",
      "j=d.createElement(s),dl=l!='dataLayer'?'&l='+l:'';j.async=true;j.src=\n",
      "'//www.googletagmanager.com/gtm.js?id='+i+dl;f.parentNode.insertBefore(j,f);\n",
      "})(window,document,'script','dataLayer','GTM-TD3BKV');</script>\n",
      "<!-- End SEC Web Analytics -->\n",
      "\n",
      "<!-- BEGIN BANNER -->\n",
      "<div id=\"headerTop\">\n",
      "   <div id=\"Nav\"><a href=\"/index.htm\">Home</a> | <a href=\"/cgi-bin/browse-edgar?action=getcurrent\">Latest Filings</a> | <a href=\"javascript:history.back()\">Previous Page</a></div>\n",
      "   <div id=\"seal\"><a href=\"/index.htm\"><img alt=\"SEC Seal\" border=\"0\" src=\"/images/sealTop.gif\"/></a></div>\n",
      "   <div id=\"secWordGraphic\"><img alt=\"SEC Banner\" src=\"/images/bannerTitle.gif\"/></div>\n",
      "</div>\n",
      "<div id=\"headerBottom\">\n",
      "<div id=\"searchHome\"><a href=\"/edgar/searchedgar/webusers.htm\">Search the Next-Generation EDGAR System</a></div>   <div id=\"PageTitle\">EDGAR Search Results</div>\n",
      "</div>\n",
      "<!-- END BANNER -->\n",
      "\n",
      "\n",
      "<!-- BEGIN BREADCRUMBS -->\n",
      "<div id=\"breadCrumbs\">\n",
      "   <ul>\n",
      "      <li><a href=\"/index.htm\">SEC Home</a> »</li>\n",
      "      <li><a href=\"/edgar/searchedgar/webusers.htm\">Search the Next-Generation EDGAR System</a> »</li>\n",
      "      <li><a href=\"/edgar/searchedgar/companysearch.html\">Company Search</a> »</li>\n",
      "      <li class=\"last\">Current Page</li>\n",
      "   </ul>\n",
      "</div>\n",
      "<!-- END BREADCRUMBS -->\n",
      "\n",
      "\n",
      "<!-- BEGIN CONTENT -->\n",
      "<div id=\"contentDiv\">\n",
      "   <span class=\"companyMatch\">Companies with names matching \"CORRECTIONS CORP\"</span> <br/>   <em>Click on <acronym title=\"Central Index Key\">CIK</acronym> to view company filings for form type 10-K</em> <br/>\n",
      "<span class=\"items\">Items 1 - 2</span>   <div id=\"seriesDiv\">\n",
      "      <table class=\"tableFile2\" summary=\"Results\">\n",
      "         <tbody><tr>\n",
      "            <th scope=\"col\" width=\"6%\"><acronym title=\"Central Index Key\">CIK</acronym></th>\n",
      "            <th scope=\"col\" width=\"79%\">Company</th>\n",
      "            <th scope=\"col\" width=\"15%\">State/Country</th>\n",
      "         </tr>\n",
      "         <tr>\n",
      "            <td scope=\"row\" valign=\"top\"><a href=\"/cgi-bin/browse-edgar?action=getcompany&amp;CIK=0001070985&amp;owner=exclude&amp;count=100&amp;hidefilings=0&amp;type=10-K\">0001070985</a></td>\n",
      "            <td scope=\"row\">CoreCivic, Inc.<br/><acronym title=\"Standard Industrial Code\">SIC</acronym>: <a href=\"/cgi-bin/browse-edgar?action=getcompany&amp;SIC=6798&amp;owner=exclude&amp;count=100&amp;hidefilings=0\">6798</a> - REAL ESTATE INVESTMENT TRUSTS<br/>formerly: CORRECTIONS CORP OF AMERICA (filings through 2016-11-10)<br/>CORRECTIONS CORP OF AMERICA/MD (filings through 2002-01-03)<br/>PRISON REALTY CORP (filings through 1999-05-14)<br/>PRISON REALTY TRUST INC (filings through 2000-02-17)<br/></td>\n",
      "            <td scope=\"row\" valign=\"top\"><a href=\"/cgi-bin/browse-edgar?action=getcompany&amp;State=TN&amp;owner=exclude&amp;count=100&amp;hidefilings=0\">TN</a></td>\n",
      "         </tr>\n",
      "         <tr class=\"blueRow\">\n",
      "            <td scope=\"row\" valign=\"top\"><a href=\"/cgi-bin/browse-edgar?action=getcompany&amp;CIK=0000739404&amp;owner=exclude&amp;count=100&amp;hidefilings=0&amp;type=10-K\">0000739404</a></td>\n",
      "            <td scope=\"row\">CORRECTIONS CORP OF AMERICA<br/><acronym title=\"Standard Industrial Code\">SIC</acronym>: <a href=\"/cgi-bin/browse-edgar?action=getcompany&amp;SIC=8744&amp;owner=exclude&amp;count=100&amp;hidefilings=0\">8744</a> - SERVICES-FACILITIES SUPPORT MANAGEMENT SERVICES<br/>formerly: CORRECTIONS CORPORATION OF AMERICA (filings through 2002-01-08)<br/></td>\n",
      "            <td scope=\"row\" valign=\"top\"><a href=\"/cgi-bin/browse-edgar?action=getcompany&amp;State=TN&amp;owner=exclude&amp;count=100&amp;hidefilings=0\">TN</a></td>\n",
      "         </tr>\n",
      "      </tbody></table>\n",
      "   </div>\n",
      "</div>\n",
      "<!-- END CONTENT -->\n",
      "\n",
      "<!-- BEGIN FOOTER -->\n",
      "<div id=\"footer\">\n",
      "  <div class=\"currentURL\">http://www.sec.gov/cgi-bin/browse-edgar</div>\n",
      "  <div class=\"links\"><a href=\"/index.htm\">Home</a> | <a href=\"/edgar/searchedgar/webusers.htm\">Search the Next-Generation EDGAR System</a> | <a href=\"javascript:history.back()\">Previous Page</a></div>\n",
      "  <div class=\"modified\">Modified 07/18/2014</div>\n",
      "</div>\n",
      "<!-- END FOOTER -->\n",
      "\n",
      "\n",
      "\n",
      "</body></html>\n"
     ]
    }
   ],
   "source": [
    "print(soup)"
   ]
  },
  {
   "cell_type": "code",
   "execution_count": null,
   "metadata": {},
   "outputs": [],
   "source": [
    "df = pd.DataFrame({'mutual_fund_name': mutual_fund_name, 'filing_type': filing_type,'date': date,'weblink': weblink })\n",
    "#df = pd.DataFrame({'mutual_fund_name': mutual_fund_name, 'filing_type': filing_type, 'weblink': weblink })\n",
    "df"
   ]
  }
 ],
 "metadata": {
  "kernelspec": {
   "display_name": "Python 3",
   "language": "python",
   "name": "python3"
  },
  "language_info": {
   "codemirror_mode": {
    "name": "ipython",
    "version": 3
   },
   "file_extension": ".py",
   "mimetype": "text/x-python",
   "name": "python",
   "nbconvert_exporter": "python",
   "pygments_lexer": "ipython3",
   "version": "3.6.5"
  }
 },
 "nbformat": 4,
 "nbformat_minor": 1
}
